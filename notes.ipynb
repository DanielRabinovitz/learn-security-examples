{
 "cells": [
  {
   "cell_type": "markdown",
   "metadata": {},
   "source": [
    "Security is CIA:\n",
    "-Confidentiality, secrets are secret\n",
    "-Integrity, secrets are not changed\n",
    "-Availability, secrets are avaialable to the people who are supposed to know them"
   ]
  },
  {
   "cell_type": "markdown",
   "metadata": {},
   "source": [
    "Basic categories of cyber attacks:\n",
    "\n",
    "-Spoofing\n",
    "    -You are pretending to be someone who knows the secret\n",
    "    -Caused by the website making it easy to figure out how to pretend to be someone (Weak authentication measures)\n",
    "\n",
    "-Tampering\n",
    "    -You are changing the secrets\n",
    "    -Caused by injection points across the website\n",
    "\n",
    "-Info Disclosure\n",
    "    -You are leaking the secrets\n",
    "    -Caused by secrets being accessible when they are not supposed to"
   ]
  }
 ],
 "metadata": {
  "language_info": {
   "name": "python"
  }
 },
 "nbformat": 4,
 "nbformat_minor": 2
}

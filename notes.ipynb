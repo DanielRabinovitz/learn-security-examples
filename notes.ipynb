{
 "cells": [
  {
   "cell_type": "markdown",
   "metadata": {},
   "source": [
    "DOS attack:\n",
    "\n",
    "Denial-Of-Service:\n",
    "--Caused by crashing the server either by overloading it with requests (no rate limiting or Content Delivery Network to deal with high loads) or by utilizing an exploit in some exposed server service to trigger an error with no error handling.\n",
    "--E.g. passing in a user ID to a database that doesn't exist."
   ]
  },
  {
   "cell_type": "markdown",
   "metadata": {},
   "source": [
    "Priviledge escalation:\n",
    "\n",
    "--When someone is given access to account privliges that they shouldn't have. E.g. giving themselves admin credentials."
   ]
  },
  {
   "cell_type": "markdown",
   "metadata": {},
   "source": [
    "Session ID is not super secure, Two Factor Authentication (2FA) lets you fix this! It's extremely important."
   ]
  },
  {
   "cell_type": "markdown",
   "metadata": {},
   "source": [
    "Repudiation:\n",
    "\n",
    "--Non-repudiation is when you have difficulty keeping users accountable.\n",
    "--Caused by poor logging and poor audit procedures and/or poor security on your logs and audits that the hacker can manipulate."
   ]
  }
 ],
 "metadata": {
  "language_info": {
   "name": "python"
  }
 },
 "nbformat": 4,
 "nbformat_minor": 2
}
